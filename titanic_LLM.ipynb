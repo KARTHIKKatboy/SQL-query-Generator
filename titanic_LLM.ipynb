{
 "cells": [
  {
   "cell_type": "code",
   "execution_count": 25,
   "id": "e9ffea85",
   "metadata": {},
   "outputs": [
    {
     "name": "stderr",
     "output_type": "stream",
     "text": [
      "C:\\Users\\karthik.s\\AppData\\Local\\Temp\\ipykernel_21076\\1547531827.py:82: UserWarning: You have not specified a value for the `type` parameter. Defaulting to the 'tuples' format for chatbot messages, but this is deprecated and will be removed in a future version of Gradio. Please set type='messages' instead, which uses openai-style dictionaries with 'role' and 'content' keys.\n",
      "  chatbot = gr.Chatbot()\n"
     ]
    },
    {
     "name": "stdout",
     "output_type": "stream",
     "text": [
      "* Running on local URL:  http://127.0.0.1:7865\n",
      "* To create a public link, set `share=True` in `launch()`.\n"
     ]
    },
    {
     "data": {
      "text/html": [
       "<div><iframe src=\"http://127.0.0.1:7865/\" width=\"100%\" height=\"500\" allow=\"autoplay; camera; microphone; clipboard-read; clipboard-write;\" frameborder=\"0\" allowfullscreen></iframe></div>"
      ],
      "text/plain": [
       "<IPython.core.display.HTML object>"
      ]
     },
     "metadata": {},
     "output_type": "display_data"
    },
    {
     "data": {
      "text/plain": []
     },
     "execution_count": 25,
     "metadata": {},
     "output_type": "execute_result"
    }
   ],
   "source": [
    "import sqlite3\n",
    "import pandas as pd\n",
    "import google.generativeai as genai\n",
    "import json\n",
    "import gradio as gr\n",
    "genai.configure(api_key=\"Your API\")\n",
    "context = json.dumps({\n",
    "    \"database_schema\" : {\n",
    "        'table_name' : 'Titanic',\n",
    "        'columns' : [\n",
    "            {'name':'pclass', 'type' : 'string'},\n",
    "            {'name':'survived', 'type' : 'integer'},\n",
    "            {'name':'name', 'type' : 'string'},\n",
    "            {'name':'sex', 'type' : 'string'},\n",
    "            {'name':'age', 'type' : 'float'},\n",
    "            {'name':'sibsp', 'type' : 'integer'},\n",
    "            {'name':'parch', 'type' : 'integer'},\n",
    "            {'name':'ticket', 'type' : 'string'},\n",
    "            {'name':'fare', 'type' : 'float'},\n",
    "            {'name':'cabin', 'type' : 'string'},\n",
    "            {'name':'embarked', 'type' : 'string'},\n",
    "            {'name':'boat', 'type' : 'string'},\n",
    "            {'name':'body', 'type' : 'float'},\n",
    "            {'name':'home_dest', 'type' : 'string'}\n",
    "        ]    \n",
    "},\n",
    "\"column_descriptions\" : \n",
    "    {'Titanic.pclass' : \"Passenger class of a person who travelled in Titanic ship. Values found are '1','2','3' \",\n",
    "    'Titanic.survived' : \"Survived persons denoted as 1 and not survived persons denoted as 0 \",\n",
    "    'Titanic.name' : \"Name of the person travelling in the Titanic ship\",\n",
    "    'sex' : \"Gender of the person denoted as 'male' and 'female'\",\n",
    "    'age': \"age of the person\",\n",
    "    'sibsp' : \"number of siblings or spouses\",\n",
    "    'parch' : \"number of parents or children\",\n",
    "    'ticket': \"ticket number\",\n",
    "    'fare' : \"Price of the ticket\",\n",
    "    'cabin' : \"cabin reserved for the person\",\n",
    "    'embarked': \"Port the person embarked. 'C', 'Q', 'S' are the values of this column\",\n",
    "    'body' : \"identification number of the non-survived person found when recovered\",\n",
    "    'home_dest': \"Destination of the person where he/she wants to travel to\"\n",
    "    }\n",
    "}\n",
    ")\n",
    "#Provides sql query for the user questions\n",
    "\n",
    "def ask_qn(user_question):\n",
    "    \n",
    "    instructions = f\"you are a sql Query agent. Following is the details of the table {context} generate the sql query for the user question '{user_question}'\"\n",
    "    model = genai.GenerativeModel('gemini-2.5-flash', system_instruction= instructions)\n",
    "    response = model.generate_content(user_question)\n",
    "    return response.text\n",
    "\n",
    "#formats the sql query result from llm model\n",
    "\n",
    "def format_sql_string( query_string ):\n",
    "    start = query_string.find('sql')+3\n",
    "    query_intm = query_string[6:]\n",
    "    end = query_intm.find('```')\n",
    "    final_sql_query = query_intm[:end].replace('\\n',' ').strip()\n",
    "    return final_sql_query\n",
    "\n",
    "\n",
    "def result(a,b):\n",
    "        db_file = 'My_Dataset.db'  # Name your new SQLite database file here\n",
    "        df = pd.read_excel(\"C:\\\\Users\\\\karthik.s\\\\Downloads\\\\Titanic_Dup.xlsx\")\n",
    "        conn = sqlite3.connect(db_file)\n",
    "        cursor = conn.cursor()\n",
    "        table_name = 'Titanic'  # Replace with your desired table name\n",
    "        df.to_sql(table_name, conn, if_exists='replace', index=False)\n",
    "        \n",
    "        sql_query = format_sql_string(ask_qn(a))\n",
    "        df_result = pd.read_sql_query(sql_query,conn)\n",
    "        \n",
    "        print(df_result)\n",
    "        table = df_result.to_markdown(index= False)\n",
    "        b.append((a, table))\n",
    "        return \"\",b\n",
    "    \n",
    "\n",
    "with gr.Blocks( theme = gr.themes.Soft()) as demo:\n",
    "    gr.Markdown(\"Data Fetch Tool\")\n",
    "    chatbot = gr.Chatbot()\n",
    "    question = gr.Textbox(label= \"Prompt\",placeholder=\"Type your question\", info = \"Type in the prompt\")\n",
    "    #gr.ClearButton(question,scale = 1)\n",
    "    question.submit(result,[question,chatbot],[question,chatbot])\n",
    "    \n",
    "demo.launch()"
   ]
  }
 ],
 "metadata": {
  "kernelspec": {
   "display_name": "venv",
   "language": "python",
   "name": "python3"
  },
  "language_info": {
   "codemirror_mode": {
    "name": "ipython",
    "version": 3
   },
   "file_extension": ".py",
   "mimetype": "text/x-python",
   "name": "python",
   "nbconvert_exporter": "python",
   "pygments_lexer": "ipython3",
   "version": "3.10.16"
  }
 },
 "nbformat": 4,
 "nbformat_minor": 5
}
